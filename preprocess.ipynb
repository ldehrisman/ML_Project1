{
 "cells": [
  {
   "cell_type": "markdown",
   "id": "57e0bdbf",
   "metadata": {},
   "source": [
    "Preprocess the data for the project. Need to Handle missing values, Standardize the numerical columns, then encode the categorical columns using the sklearn version of encoding"
   ]
  },
  {
   "cell_type": "code",
   "execution_count": null,
   "id": "c7f02c38",
   "metadata": {},
   "outputs": [],
   "source": [
    "#Import block\n",
    "import pandas as pd\n",
    "import numpy as np\n",
    "import sklearn"
   ]
  },
  {
   "cell_type": "code",
   "execution_count": null,
   "id": "952fd270",
   "metadata": {},
   "outputs": [],
   "source": [
    "#Import the data\n",
    "adult_data = pd.read_csv('./data/project_adult.csv')\n",
    "#adult_data.head()\n",
    "validation_data = pd.read_csv('./data/project_validation_inputs.csv')\n",
    "#validation_data.head()"
   ]
  }
 ],
 "metadata": {
  "kernelspec": {
   "display_name": "Python 3",
   "language": "python",
   "name": "python3"
  },
  "language_info": {
   "codemirror_mode": {
    "name": "ipython",
    "version": 3
   },
   "file_extension": ".py",
   "mimetype": "text/x-python",
   "name": "python",
   "nbconvert_exporter": "python",
   "pygments_lexer": "ipython3",
   "version": "3.13.5"
  }
 },
 "nbformat": 4,
 "nbformat_minor": 5
}
