{
  "cells": [
    {
      "cell_type": "code",
      "execution_count": 1,
      "id": "e1da8579-debe-4680-b017-fe8df34cb314",
      "metadata": {
        "trusted": true
      },
      "outputs": [],
      "source": [
        "# scikit-learn pereptron and adaline implementations\n",
        "from sklearn.linear_model import Perceptron as SklearnPerceptron\n",
        "from sklearn.linear_model import SGDClassifier\n",
        "from sklearn.metrics import accuracy_score"
      ]
    },
    {
      "cell_type": "code",
      "execution_count": 2,
      "id": "68242296-929b-48a1-8408-e4f5f203c9a0",
      "metadata": {
        "trusted": true
      },
      "outputs": [
        {
          "ename": "NameError",
          "evalue": "name 'X_train' is not defined",
          "output_type": "error",
          "traceback": [
            "\u001b[31m---------------------------------------------------------------------------\u001b[39m",
            "\u001b[31mNameError\u001b[39m                                 Traceback (most recent call last)",
            "\u001b[36mCell\u001b[39m\u001b[36m \u001b[39m\u001b[32mIn[2]\u001b[39m\u001b[32m, line 13\u001b[39m\n\u001b[32m     11\u001b[39m \u001b[38;5;66;03m# Scikit-learn Perceptron\u001b[39;00m\n\u001b[32m     12\u001b[39m sk_ppn = SklearnPerceptron(eta0=\u001b[32m0.1\u001b[39m, max_iter=\u001b[32m15\u001b[39m, random_state=\u001b[32m42\u001b[39m)\n\u001b[32m---> \u001b[39m\u001b[32m13\u001b[39m sk_ppn.fit(\u001b[43mX_train\u001b[49m, y_train)\n\u001b[32m     14\u001b[39m sk_y_pred_ppn = sk_ppn.predict(X_test)\n\u001b[32m     15\u001b[39m \u001b[38;5;28mprint\u001b[39m(\u001b[33mf\u001b[39m\u001b[33m\"\u001b[39m\u001b[33mScikit-learn Perceptron accuracy: \u001b[39m\u001b[38;5;132;01m{\u001b[39;00maccuracy_score(y_test,\u001b[38;5;250m \u001b[39msk_y_pred_ppn)\u001b[38;5;132;01m:\u001b[39;00m\u001b[33m.4f\u001b[39m\u001b[38;5;132;01m}\u001b[39;00m\u001b[33m\"\u001b[39m)\n",
            "\u001b[31mNameError\u001b[39m: name 'X_train' is not defined"
          ]
        }
      ],
      "source": [
        "# Assumption:  This code assumes you have already clean, processed, and split a data set.\n",
        "'''\n",
        "Input Data Required:\n",
        "X_train = cleaned, processed input data for training prediction models\n",
        "y_train = response variable associated with X_train; truth values\n",
        "X_test = cleaned, processed input data for testing prediction model created on training dataset\n",
        "y_test = response variable associated with X_test; truth values\n",
        "\n",
        "Note: Current order of rows ensure y_train = X_train and y_test = X_test, but if you sort and remove rows this association changes.\n",
        "'''\n",
        "# Scikit-learn Perceptron\n",
        "sk_ppn = SklearnPerceptron(eta0=0.1, max_iter=15, random_state=42)\n",
        "sk_ppn.fit(X_train, y_train)\n",
        "sk_y_pred_ppn = sk_ppn.predict(X_test)\n",
        "print(f\"Scikit-learn Perceptron accuracy: {accuracy_score(y_test, sk_y_pred_ppn):.4f}\")\n",
        "\n",
        "# Scikit-learn Adaline (using SGDClassifier with 'log_loss' is closer, but 'perceptron' is available)\n",
        "# For Adaline (which uses GD), SGDClassifier with 'hinge' loss is a good proxy, as it's a linear classifier with regularization\n",
        "sk_ada = SGDClassifier(loss='perceptron', eta0=0.0001, learning_rate='constant', max_iter=15, random_state=42)\n",
        "sk_ada.fit(X_train, y_train)\n",
        "sk_y_pred_ada = sk_ada.predict(X_test)\n",
        "print(f\"Scikit-learn Adaline (SGDClassifier) accuracy: {accuracy_score(y_test, sk_y_pred_ada):.4f}\")"
      ]
    }
  ],
  "metadata": {
    "kernelspec": {
      "display_name": "Python 3",
      "language": "python",
      "name": "python3"
    },
    "language_info": {
      "codemirror_mode": {
        "name": "ipython",
        "version": 3
      },
      "file_extension": ".py",
      "mimetype": "text/x-python",
      "name": "python",
      "nbconvert_exporter": "python",
      "pygments_lexer": "ipython3",
      "version": "3.12.1"
    }
  },
  "nbformat": 4,
  "nbformat_minor": 5
}
